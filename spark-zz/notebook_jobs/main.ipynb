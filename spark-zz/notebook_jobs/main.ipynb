{
 "cells": [
  {
   "cell_type": "code",
   "execution_count": 8,
   "id": "d408f656-ca4b-43c8-b690-2f08a7a8a97a",
   "metadata": {},
   "outputs": [],
   "source": [
    "from pyspark.sql import SparkSession\n",
    "import pyspark.sql.functions as F\n",
    "\n",
    "spark = SparkSession.builder.getOrCreate()"
   ]
  },
  {
   "cell_type": "code",
   "execution_count": 22,
   "id": "baadbc3e",
   "metadata": {},
   "outputs": [],
   "source": [
    "request_dict = [\n",
    "    {\"event\": \"2024-10-24+02:51:52.6009Z\"},\n",
    "    {\"event\": \"2024-10-24+02:51:52.600996Z\"},\n",
    "    {\"event\": \"2024-10-24+02:51:52.606Z\"},\n",
    "    {\"event\": \"2024-10-24+02:51:52.60Z\"},\n",
    "    {\"event\": \"2024-10-24+02:51:52.601033Z\"},\n",
    "    {\"event\": \"2024-10-24+02:51:52.601039Z\"},\n",
    "]\n",
    "\n",
    "df_dict = spark.createDataFrame(data=request_dict)\n",
    "\n",
    "formatted_dict = df_dict.select(\n",
    "    F.col(\"event\"), \n",
    "    F.to_timestamp(F.col(\"event\"), \"yyyy-MM-dd+HH:mm:ss.SSSSSS'Z'\")\n",
    ")\n"
   ]
  },
  {
   "cell_type": "code",
   "execution_count": 21,
   "id": "146913c9",
   "metadata": {},
   "outputs": [
    {
     "name": "stderr",
     "output_type": "stream",
     "text": [
      "[Stage 17:===============================>                         (6 + 5) / 11]\r"
     ]
    },
    {
     "name": "stdout",
     "output_type": "stream",
     "text": [
      "+---------------------------+--------------------------------------------------+\n",
      "|event                      |to_timestamp(event, yyyy-MM-dd+HH:mm:ss.SSSSSS'Z')|\n",
      "+---------------------------+--------------------------------------------------+\n",
      "|2024-10-24+02:51:52.6009Z  |2024-10-24 02:51:52.6009                          |\n",
      "|2024-10-24+02:51:52.600996Z|2024-10-24 02:51:52.600996                        |\n",
      "|2024-10-24+02:51:52.606Z   |2024-10-24 02:51:52.606                           |\n",
      "|2024-10-24+02:51:52.60Z    |2024-10-24 02:51:52.6                             |\n",
      "|2024-10-24+02:51:52.601033Z|2024-10-24 02:51:52.601033                        |\n",
      "|2024-10-24+02:51:52.601039Z|2024-10-24 02:51:52.601039                        |\n",
      "+---------------------------+--------------------------------------------------+\n",
      "\n"
     ]
    },
    {
     "name": "stderr",
     "output_type": "stream",
     "text": [
      "                                                                                \r"
     ]
    }
   ],
   "source": [
    "formatted_dict.show(truncate=False)"
   ]
  }
 ],
 "metadata": {
  "kernelspec": {
   "display_name": "Python 3 (ipykernel)",
   "language": "python",
   "name": "python3"
  },
  "language_info": {
   "codemirror_mode": {
    "name": "ipython",
    "version": 3
   },
   "file_extension": ".py",
   "mimetype": "text/x-python",
   "name": "python",
   "nbconvert_exporter": "python",
   "pygments_lexer": "ipython3",
   "version": "3.10.12"
  }
 },
 "nbformat": 4,
 "nbformat_minor": 5
}
